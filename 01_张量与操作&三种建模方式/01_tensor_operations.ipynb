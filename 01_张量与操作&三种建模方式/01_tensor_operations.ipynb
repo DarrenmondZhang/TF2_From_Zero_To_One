{
 "cells": [
  {
   "cell_type": "code",
   "execution_count": 1,
   "metadata": {
    "tags": []
   },
   "outputs": [
    {
     "output_type": "stream",
     "name": "stdout",
     "text": "2.3.0\n"
    }
   ],
   "source": [
    "import tensorflow as tf\n",
    "print(tf.__version__)"
   ]
  },
  {
   "cell_type": "code",
   "execution_count": 4,
   "metadata": {
    "tags": []
   },
   "outputs": [
    {
     "output_type": "stream",
     "name": "stdout",
     "text": "True\n[PhysicalDevice(name='/physical_device:GPU:0', device_type='GPU'), PhysicalDevice(name='/physical_device:GPU:1', device_type='GPU'), PhysicalDevice(name='/physical_device:GPU:2', device_type='GPU'), PhysicalDevice(name='/physical_device:GPU:3', device_type='GPU'), PhysicalDevice(name='/physical_device:GPU:4', device_type='GPU'), PhysicalDevice(name='/physical_device:GPU:5', device_type='GPU'), PhysicalDevice(name='/physical_device:GPU:6', device_type='GPU'), PhysicalDevice(name='/physical_device:GPU:7', device_type='GPU')]\n"
    }
   ],
   "source": [
    "print(tf.test.is_gpu_available())\n",
    "print(tf.config.list_physical_devices('GPU'))"
   ]
  },
  {
   "cell_type": "code",
   "execution_count": 2,
   "metadata": {
    "tags": []
   },
   "outputs": [
    {
     "output_type": "stream",
     "name": "stdout",
     "text": "/home/zhangchunmei/anaconda3/envs/TF2/bin/python\n"
    }
   ],
   "source": [
    "!which python"
   ]
  },
  {
   "cell_type": "markdown",
   "metadata": {},
   "source": [
    "# 一、张量\n",
    "`TensorFlow` 使用一种叫 `tensor` 的数据结构去定义所有的数据，我们可以把 `tensor` 看成是 n 维的 array 或者 list。\n",
    "\n",
    "在 `TensorFlow` 的各部分图形间流动传递的只能是tensor。\n",
    "\n",
    "编写`TensorFlow`程序时，操纵并传递的主要对象是 `tf.Tensor`：\n",
    "* 数据类型（例如 float32，int32，或string）\n",
    "* 维度 shape"
   ]
  },
  {
   "cell_type": "markdown",
   "metadata": {},
   "source": [
    "![](media/rank.png)"
   ]
  },
  {
   "cell_type": "code",
   "execution_count": 5,
   "metadata": {
    "tags": []
   },
   "outputs": [
    {
     "output_type": "stream",
     "name": "stdout",
     "text": "0\n[]\n"
    }
   ],
   "source": [
    "# Rank 0 定义0维张量\n",
    "mammal = tf.Variable(\"Elephant\", tf.string)\n",
    "tf.print(tf.rank(mammal))\n",
    "tf.print(tf.shape(mammal))\n"
   ]
  },
  {
   "cell_type": "code",
   "execution_count": 6,
   "metadata": {
    "tags": []
   },
   "outputs": [
    {
     "output_type": "stream",
     "name": "stdout",
     "text": "tf.Tensor(0, shape=(), dtype=int32)\n"
    }
   ],
   "source": [
    "print(tf.rank(mammal))"
   ]
  },
  {
   "cell_type": "code",
   "execution_count": 7,
   "metadata": {
    "tags": []
   },
   "outputs": [
    {
     "output_type": "stream",
     "name": "stdout",
     "text": "1\n[1]\n"
    }
   ],
   "source": [
    "# Rank 1\n",
    "mystr = tf.Variable([\"Hello\"], tf.string)\n",
    "tf.print(tf.rank(mystr))\n",
    "tf.print(tf.shape(mystr))\n"
   ]
  },
  {
   "cell_type": "code",
   "execution_count": 8,
   "metadata": {
    "tags": []
   },
   "outputs": [
    {
     "output_type": "stream",
     "name": "stdout",
     "text": "2\n[2 1]\n"
    }
   ],
   "source": [
    "#Rank 2\n",
    "mymat=tf.Variable([[7], [11]], tf.int16)\n",
    "tf.print(tf.rank(mymat))\n",
    "tf.print(tf.shape(mymat))\n"
   ]
  },
  {
   "cell_type": "markdown",
   "metadata": {},
   "source": [
    "numpy vs. tensorflow\n",
    "![numpy vs. tensorflow](media/numpyvstensorflow.png)"
   ]
  },
  {
   "cell_type": "markdown",
   "metadata": {},
   "source": [
    "## 创建张量"
   ]
  },
  {
   "cell_type": "code",
   "execution_count": 7,
   "metadata": {},
   "outputs": [
    {
     "data": {
      "text/plain": [
       "<tf.Tensor: shape=(3,), dtype=int16, numpy=array([1, 2, 3], dtype=int16)>"
      ]
     },
     "execution_count": 7,
     "metadata": {},
     "output_type": "execute_result"
    }
   ],
   "source": [
    "tf.constant([1, 2, 3], dtype=tf.int16)"
   ]
  },
  {
   "cell_type": "code",
   "execution_count": 8,
   "metadata": {},
   "outputs": [
    {
     "data": {
      "text/plain": [
       "<tf.Tensor: shape=(2, 2), dtype=int16, numpy=\n",
       "array([[0, 0],\n",
       "       [0, 0]], dtype=int16)>"
      ]
     },
     "execution_count": 8,
     "metadata": {},
     "output_type": "execute_result"
    }
   ],
   "source": [
    "tf.zeros((2, 2), dtype=tf.int16)"
   ]
  },
  {
   "cell_type": "code",
   "execution_count": 9,
   "metadata": {},
   "outputs": [],
   "source": [
    "# reshape\n",
    "rank_three_tensor = tf.ones([3, 4, 5])\n",
    "matrix = tf.reshape(rank_three_tensor, [6, 10])"
   ]
  },
  {
   "cell_type": "code",
   "execution_count": 10,
   "metadata": {},
   "outputs": [
    {
     "ename": "SyntaxError",
     "evalue": "invalid character in identifier (<ipython-input-10-f469281ce379>, line 1)",
     "output_type": "error",
     "traceback": [
      "\u001b[1;36m  File \u001b[1;32m\"<ipython-input-10-f469281ce379>\"\u001b[1;36m, line \u001b[1;32m1\u001b[0m\n\u001b[1;33m    yet_another=tf.reshape(rank_three_tensor, [8, 10])  # 维度不对报错\u001b[0m\n\u001b[1;37m                                                   ^\u001b[0m\n\u001b[1;31mSyntaxError\u001b[0m\u001b[1;31m:\u001b[0m invalid character in identifier\n"
     ]
    }
   ],
   "source": [
    "yet_another = tf.reshape(rank_three_tensor, [8, 10])  # 维度不对报错"
   ]
  },
  {
   "cell_type": "markdown",
   "metadata": {},
   "source": [
    "# 二、操作\n",
    "\n",
    "- tf.strings\n",
    "- tf.debugging\n",
    "- tf.dtypes\n",
    "- tf.math\n",
    "- tf.random\n",
    "- tf.feature_column  [建议参考](https://www.tensorflow.org/tutorials/structured_data/feature_columns)，常用于特征处理.\n"
   ]
  },
  {
   "cell_type": "markdown",
   "metadata": {},
   "source": [
    "## 01. tf.strings"
   ]
  },
  {
   "cell_type": "code",
   "execution_count": 10,
   "metadata": {},
   "outputs": [
    {
     "output_type": "execute_result",
     "data": {
      "text/plain": "<tf.Tensor: shape=(5,), dtype=string, numpy=array([b'h', b'e', b'l', b'l', b'o'], dtype=object)>"
     },
     "metadata": {},
     "execution_count": 10
    }
   ],
   "source": [
    "# 字符切割\n",
    "tf.strings.bytes_split('hello')"
   ]
  },
  {
   "cell_type": "code",
   "execution_count": 11,
   "metadata": {
    "tags": []
   },
   "outputs": [
    {
     "output_type": "stream",
     "name": "stdout",
     "text": "Help on function string_split_v2 in module tensorflow.python.ops.ragged.ragged_string_ops:\n\nstring_split_v2(input, sep=None, maxsplit=-1, name=None)\n    Split elements of `input` based on `sep` into a `RaggedTensor`.\n    \n    Let N be the size of `input` (typically N will be the batch size). Split each\n    element of `input` based on `sep` and return a `RaggedTensor` containing the \n    split tokens. Empty tokens are ignored.\n    \n    Example:\n    \n    >>> tf.strings.split('hello world').numpy()\n     array([b'hello', b'world'], dtype=object)\n    >>> tf.strings.split(['hello world', 'a b c'])\n    <tf.RaggedTensor [[b'hello', b'world'], [b'a', b'b', b'c']]>\n    \n    If `sep` is given, consecutive delimiters are not grouped together and are\n    deemed to delimit empty strings. For example, `input` of `\"1<>2<><>3\"` and\n    `sep` of `\"<>\"` returns `[\"1\", \"2\", \"\", \"3\"]`. If `sep` is None or an empty\n    string, consecutive whitespace are regarded as a single separator, and the\n    result will contain no empty strings at the start or end if the string has\n    leading or trailing whitespace.\n    \n    Note that the above mentioned behavior matches python's str.split.\n    \n    Args:\n      input: A string `Tensor` of rank `N`, the strings to split.  If\n        `rank(input)` is not known statically, then it is assumed to be `1`.\n      sep: `0-D` string `Tensor`, the delimiter string.\n      maxsplit: An `int`. If `maxsplit > 0`, limit of the split of the result.\n      name: A name for the operation (optional).\n    \n    Raises:\n      ValueError: If sep is not a string.\n    \n    Returns:\n      A `RaggedTensor` of rank `N+1`, the strings split according to the\n      delimiter.\n\n"
    }
   ],
   "source": [
    "help(tf.strings.split)"
   ]
  },
  {
   "cell_type": "code",
   "execution_count": 12,
   "metadata": {},
   "outputs": [
    {
     "output_type": "execute_result",
     "data": {
      "text/plain": "<tf.Tensor: shape=(2,), dtype=string, numpy=array([b'hello', b'world'], dtype=object)>"
     },
     "metadata": {},
     "execution_count": 12
    }
   ],
   "source": [
    "# 对空格进行切割：单词切割\n",
    "tf.strings.split('hello world')"
   ]
  },
  {
   "cell_type": "code",
   "execution_count": 13,
   "metadata": {},
   "outputs": [
    {
     "output_type": "execute_result",
     "data": {
      "text/plain": "<tf.Tensor: shape=(2,), dtype=int64, numpy=array([8, 1])>"
     },
     "metadata": {},
     "execution_count": 13
    }
   ],
   "source": [
    "# string hash\n",
    "tf.strings.to_hash_bucket(['hello','world'], num_buckets=10)"
   ]
  },
  {
   "cell_type": "markdown",
   "metadata": {},
   "source": [
    "## 02. tf.debugging"
   ]
  },
  {
   "cell_type": "code",
   "execution_count": 14,
   "metadata": {},
   "outputs": [],
   "source": [
    "# tf自带debug函数 (x 是否等于 y)\n",
    "a = tf.random.uniform((10, 10))\n",
    "tf.debugging.assert_equal(x=a.shape, y=(10,10))"
   ]
  },
  {
   "cell_type": "code",
   "execution_count": 15,
   "metadata": {},
   "outputs": [
    {
     "output_type": "error",
     "ename": "InvalidArgumentError",
     "evalue": "Condition x == y did not hold.\nIndices of first 1 different values:\n[[0]]\nCorresponding x values:\n[10]\nCorresponding y values:\n[20]\nFirst 2 elements of x:\n[10 10]\nFirst 2 elements of y:\n[20 10]",
     "traceback": [
      "\u001b[0;31m---------------------------------------------------------------------------\u001b[0m",
      "\u001b[0;31mInvalidArgumentError\u001b[0m                      Traceback (most recent call last)",
      "\u001b[0;32m<ipython-input-15-38e3169b35b0>\u001b[0m in \u001b[0;36m<module>\u001b[0;34m\u001b[0m\n\u001b[1;32m      1\u001b[0m \u001b[0;31m# 错误示范\u001b[0m\u001b[0;34m\u001b[0m\u001b[0;34m\u001b[0m\u001b[0;34m\u001b[0m\u001b[0m\n\u001b[0;32m----> 2\u001b[0;31m \u001b[0mtf\u001b[0m\u001b[0;34m.\u001b[0m\u001b[0mdebugging\u001b[0m\u001b[0;34m.\u001b[0m\u001b[0massert_equal\u001b[0m\u001b[0;34m(\u001b[0m\u001b[0mx\u001b[0m\u001b[0;34m=\u001b[0m\u001b[0ma\u001b[0m\u001b[0;34m.\u001b[0m\u001b[0mshape\u001b[0m\u001b[0;34m,\u001b[0m \u001b[0my\u001b[0m\u001b[0;34m=\u001b[0m\u001b[0;34m(\u001b[0m\u001b[0;36m20\u001b[0m\u001b[0;34m,\u001b[0m\u001b[0;36m10\u001b[0m\u001b[0;34m)\u001b[0m\u001b[0;34m)\u001b[0m\u001b[0;34m\u001b[0m\u001b[0;34m\u001b[0m\u001b[0m\n\u001b[0m",
      "\u001b[0;32m~/anaconda3/envs/TF2/lib/python3.7/site-packages/tensorflow/python/util/dispatch.py\u001b[0m in \u001b[0;36mwrapper\u001b[0;34m(*args, **kwargs)\u001b[0m\n\u001b[1;32m    199\u001b[0m     \u001b[0;34m\"\"\"Call target, and fall back on dispatchers if there is a TypeError.\"\"\"\u001b[0m\u001b[0;34m\u001b[0m\u001b[0;34m\u001b[0m\u001b[0m\n\u001b[1;32m    200\u001b[0m     \u001b[0;32mtry\u001b[0m\u001b[0;34m:\u001b[0m\u001b[0;34m\u001b[0m\u001b[0;34m\u001b[0m\u001b[0m\n\u001b[0;32m--> 201\u001b[0;31m       \u001b[0;32mreturn\u001b[0m \u001b[0mtarget\u001b[0m\u001b[0;34m(\u001b[0m\u001b[0;34m*\u001b[0m\u001b[0margs\u001b[0m\u001b[0;34m,\u001b[0m \u001b[0;34m**\u001b[0m\u001b[0mkwargs\u001b[0m\u001b[0;34m)\u001b[0m\u001b[0;34m\u001b[0m\u001b[0;34m\u001b[0m\u001b[0m\n\u001b[0m\u001b[1;32m    202\u001b[0m     \u001b[0;32mexcept\u001b[0m \u001b[0;34m(\u001b[0m\u001b[0mTypeError\u001b[0m\u001b[0;34m,\u001b[0m \u001b[0mValueError\u001b[0m\u001b[0;34m)\u001b[0m\u001b[0;34m:\u001b[0m\u001b[0;34m\u001b[0m\u001b[0;34m\u001b[0m\u001b[0m\n\u001b[1;32m    203\u001b[0m       \u001b[0;31m# Note: convert_to_eager_tensor currently raises a ValueError, not a\u001b[0m\u001b[0;34m\u001b[0m\u001b[0;34m\u001b[0m\u001b[0;34m\u001b[0m\u001b[0m\n",
      "\u001b[0;32m~/anaconda3/envs/TF2/lib/python3.7/site-packages/tensorflow/python/ops/check_ops.py\u001b[0m in \u001b[0;36massert_equal_v2\u001b[0;34m(x, y, message, summarize, name)\u001b[0m\n\u001b[1;32m    657\u001b[0m       \u001b[0mexecution\u001b[0m \u001b[0;32mor\u001b[0m \u001b[0;32mif\u001b[0m\u001b[0;31m \u001b[0m\u001b[0;31m`\u001b[0m\u001b[0mx\u001b[0m\u001b[0;31m`\u001b[0m \u001b[0;32mand\u001b[0m\u001b[0;31m \u001b[0m\u001b[0;31m`\u001b[0m\u001b[0my\u001b[0m\u001b[0;31m`\u001b[0m \u001b[0mare\u001b[0m \u001b[0mstatically\u001b[0m \u001b[0mknown\u001b[0m\u001b[0;34m.\u001b[0m\u001b[0;34m\u001b[0m\u001b[0;34m\u001b[0m\u001b[0m\n\u001b[1;32m    658\u001b[0m   \"\"\"\n\u001b[0;32m--> 659\u001b[0;31m   \u001b[0;32mreturn\u001b[0m \u001b[0massert_equal\u001b[0m\u001b[0;34m(\u001b[0m\u001b[0mx\u001b[0m\u001b[0;34m=\u001b[0m\u001b[0mx\u001b[0m\u001b[0;34m,\u001b[0m \u001b[0my\u001b[0m\u001b[0;34m=\u001b[0m\u001b[0my\u001b[0m\u001b[0;34m,\u001b[0m \u001b[0msummarize\u001b[0m\u001b[0;34m=\u001b[0m\u001b[0msummarize\u001b[0m\u001b[0;34m,\u001b[0m \u001b[0mmessage\u001b[0m\u001b[0;34m=\u001b[0m\u001b[0mmessage\u001b[0m\u001b[0;34m,\u001b[0m \u001b[0mname\u001b[0m\u001b[0;34m=\u001b[0m\u001b[0mname\u001b[0m\u001b[0;34m)\u001b[0m\u001b[0;34m\u001b[0m\u001b[0;34m\u001b[0m\u001b[0m\n\u001b[0m\u001b[1;32m    660\u001b[0m \u001b[0;34m\u001b[0m\u001b[0m\n\u001b[1;32m    661\u001b[0m \u001b[0;34m\u001b[0m\u001b[0m\n",
      "\u001b[0;32m~/anaconda3/envs/TF2/lib/python3.7/site-packages/tensorflow/python/util/dispatch.py\u001b[0m in \u001b[0;36mwrapper\u001b[0;34m(*args, **kwargs)\u001b[0m\n\u001b[1;32m    199\u001b[0m     \u001b[0;34m\"\"\"Call target, and fall back on dispatchers if there is a TypeError.\"\"\"\u001b[0m\u001b[0;34m\u001b[0m\u001b[0;34m\u001b[0m\u001b[0m\n\u001b[1;32m    200\u001b[0m     \u001b[0;32mtry\u001b[0m\u001b[0;34m:\u001b[0m\u001b[0;34m\u001b[0m\u001b[0;34m\u001b[0m\u001b[0m\n\u001b[0;32m--> 201\u001b[0;31m       \u001b[0;32mreturn\u001b[0m \u001b[0mtarget\u001b[0m\u001b[0;34m(\u001b[0m\u001b[0;34m*\u001b[0m\u001b[0margs\u001b[0m\u001b[0;34m,\u001b[0m \u001b[0;34m**\u001b[0m\u001b[0mkwargs\u001b[0m\u001b[0;34m)\u001b[0m\u001b[0;34m\u001b[0m\u001b[0;34m\u001b[0m\u001b[0m\n\u001b[0m\u001b[1;32m    202\u001b[0m     \u001b[0;32mexcept\u001b[0m \u001b[0;34m(\u001b[0m\u001b[0mTypeError\u001b[0m\u001b[0;34m,\u001b[0m \u001b[0mValueError\u001b[0m\u001b[0;34m)\u001b[0m\u001b[0;34m:\u001b[0m\u001b[0;34m\u001b[0m\u001b[0;34m\u001b[0m\u001b[0m\n\u001b[1;32m    203\u001b[0m       \u001b[0;31m# Note: convert_to_eager_tensor currently raises a ValueError, not a\u001b[0m\u001b[0;34m\u001b[0m\u001b[0;34m\u001b[0m\u001b[0;34m\u001b[0m\u001b[0m\n",
      "\u001b[0;32m~/anaconda3/envs/TF2/lib/python3.7/site-packages/tensorflow/python/ops/check_ops.py\u001b[0m in \u001b[0;36massert_equal\u001b[0;34m(x, y, data, summarize, message, name)\u001b[0m\n\u001b[1;32m    669\u001b[0m       \u001b[0;32mreturn\u001b[0m \u001b[0;32mNone\u001b[0m \u001b[0;32mif\u001b[0m \u001b[0mcontext\u001b[0m\u001b[0;34m.\u001b[0m\u001b[0mexecuting_eagerly\u001b[0m\u001b[0;34m(\u001b[0m\u001b[0;34m)\u001b[0m \u001b[0;32melse\u001b[0m \u001b[0mcontrol_flow_ops\u001b[0m\u001b[0;34m.\u001b[0m\u001b[0mno_op\u001b[0m\u001b[0;34m(\u001b[0m\u001b[0;34m)\u001b[0m\u001b[0;34m\u001b[0m\u001b[0;34m\u001b[0m\u001b[0m\n\u001b[1;32m    670\u001b[0m   return _binary_assert('==', 'assert_equal', math_ops.equal, np.equal, x, y,\n\u001b[0;32m--> 671\u001b[0;31m                         data, summarize, message, name)\n\u001b[0m\u001b[1;32m    672\u001b[0m \u001b[0;34m\u001b[0m\u001b[0m\n\u001b[1;32m    673\u001b[0m \u001b[0;34m\u001b[0m\u001b[0m\n",
      "\u001b[0;32m~/anaconda3/envs/TF2/lib/python3.7/site-packages/tensorflow/python/ops/check_ops.py\u001b[0m in \u001b[0;36m_binary_assert\u001b[0;34m(sym, opname, op_func, static_func, x, y, data, summarize, message, name)\u001b[0m\n\u001b[1;32m    354\u001b[0m           \u001b[0mnode_def\u001b[0m\u001b[0;34m=\u001b[0m\u001b[0;32mNone\u001b[0m\u001b[0;34m,\u001b[0m\u001b[0;34m\u001b[0m\u001b[0;34m\u001b[0m\u001b[0m\n\u001b[1;32m    355\u001b[0m           \u001b[0mop\u001b[0m\u001b[0;34m=\u001b[0m\u001b[0;32mNone\u001b[0m\u001b[0;34m,\u001b[0m\u001b[0;34m\u001b[0m\u001b[0;34m\u001b[0m\u001b[0m\n\u001b[0;32m--> 356\u001b[0;31m           message=('\\n'.join(_pretty_print(d, summarize) for d in data)))\n\u001b[0m\u001b[1;32m    357\u001b[0m \u001b[0;34m\u001b[0m\u001b[0m\n\u001b[1;32m    358\u001b[0m     \u001b[0;32melse\u001b[0m\u001b[0;34m:\u001b[0m  \u001b[0;31m# not context.executing_eagerly()\u001b[0m\u001b[0;34m\u001b[0m\u001b[0;34m\u001b[0m\u001b[0m\n",
      "\u001b[0;31mInvalidArgumentError\u001b[0m: Condition x == y did not hold.\nIndices of first 1 different values:\n[[0]]\nCorresponding x values:\n[10]\nCorresponding y values:\n[20]\nFirst 2 elements of x:\n[10 10]\nFirst 2 elements of y:\n[20 10]"
     ]
    }
   ],
   "source": [
    "# 错误示范\n",
    "tf.debugging.assert_equal(x=a.shape, y=(20,10))"
   ]
  },
  {
   "cell_type": "markdown",
   "metadata": {},
   "source": [
    "## 03. tf.random"
   ]
  },
  {
   "cell_type": "code",
   "execution_count": 16,
   "metadata": {},
   "outputs": [
    {
     "output_type": "execute_result",
     "data": {
      "text/plain": "<tf.Tensor: shape=(10, 5), dtype=float32, numpy=\narray([[4.3930521e+00, 9.9396887e+00, 5.0853004e+00, 5.8937335e+00,\n        8.1611843e+00],\n       [2.5842655e+00, 4.0587521e+00, 4.9796653e+00, 9.4833956e+00,\n        2.8490758e+00],\n       [6.6873908e+00, 1.5095270e+00, 9.9422874e+00, 5.7644167e+00,\n        1.4041543e-01],\n       [6.5287066e+00, 2.5718594e+00, 9.2470884e+00, 9.1433830e+00,\n        8.3603477e+00],\n       [5.4355583e+00, 9.0309372e+00, 4.9365830e+00, 1.4705503e+00,\n        1.2285590e-01],\n       [6.0117245e-03, 4.8105121e-01, 6.0948968e+00, 3.4438109e+00,\n        8.8326473e+00],\n       [2.6749790e+00, 8.5772705e+00, 1.7811382e+00, 2.1951151e+00,\n        3.8591957e+00],\n       [6.2491035e+00, 6.6134205e+00, 5.9531665e+00, 6.2340808e+00,\n        1.3564539e+00],\n       [8.7575531e+00, 7.9608798e+00, 2.3329306e+00, 9.6564398e+00,\n        9.5569668e+00],\n       [5.9340944e+00, 2.4035919e+00, 3.7998617e+00, 6.9467807e+00,\n        1.7403567e+00]], dtype=float32)>"
     },
     "metadata": {},
     "execution_count": 16
    }
   ],
   "source": [
    "a = tf.random.uniform(shape=(10, 5), minval=0, maxval=10)\n",
    "a"
   ]
  },
  {
   "cell_type": "markdown",
   "metadata": {},
   "source": [
    "## 04. tf.math"
   ]
  },
  {
   "cell_type": "code",
   "execution_count": 17,
   "metadata": {
    "tags": []
   },
   "outputs": [
    {
     "output_type": "stream",
     "name": "stdout",
     "text": "[[6 8]\n [10 12]]\n[[-4 -4]\n [-4 -4]]\n[[5 12]\n [21 32]]\n[[0.2 0.33333333333333331]\n [0.42857142857142855 0.5]]\n"
    }
   ],
   "source": [
    "a = tf.constant([[1, 2], [3, 4]])\n",
    "b = tf.constant([[5, 6], [7, 8]])\n",
    "\n",
    "tf.print(tf.math.add(a, b))\n",
    "tf.print(tf.math.subtract(a, b))\n",
    "tf.print(tf.math.multiply(a, b))\n",
    "tf.print(tf.math.divide(a, b))"
   ]
  },
  {
   "cell_type": "code",
   "execution_count": 19,
   "metadata": {},
   "outputs": [
    {
     "name": "stdout",
     "output_type": "stream",
     "text": [
      "tf.Tensor(\n",
      "[[ 6  8]\n",
      " [10 12]], shape=(2, 2), dtype=int32)\n"
     ]
    }
   ],
   "source": [
    "print(tf.math.add(a, b))"
   ]
  },
  {
   "cell_type": "markdown",
   "metadata": {},
   "source": [
    "tf.print:输出张量里头的内容；\n",
    "print:输出的是张量，"
   ]
  },
  {
   "cell_type": "markdown",
   "metadata": {},
   "source": [
    "## 05. tf.dtypes"
   ]
  },
  {
   "cell_type": "code",
   "execution_count": 18,
   "metadata": {},
   "outputs": [
    {
     "output_type": "execute_result",
     "data": {
      "text/plain": "<tf.Tensor: shape=(2,), dtype=int32, numpy=array([1, 2], dtype=int32)>"
     },
     "metadata": {},
     "execution_count": 18
    }
   ],
   "source": [
    "x = tf.constant([1.8, 2.2], dtype=tf.float32)\n",
    "\n",
    "x1 = tf.dtypes.cast(x, tf.int32)  # float32 -> int32\n",
    "x1"
   ]
  },
  {
   "cell_type": "markdown",
   "metadata": {},
   "source": [
    "# 三、常用层\n",
    "\n",
    "- `tf.keras.layers`\n",
    "- `tf.nn`\n",
    "\n",
    "在大多数据情况下，可以使用 `TensorFlow` 封装的 `tf.keras.layers` 构建的一些层建模，Keras层是非常有用的。\n",
    "\n",
    "可以在[文档中](https://www.tensorflow.org/api_docs/python/tf/keras/layers)查看预先存在的层的完整列表。它包括Dense，Conv2D，LSTM，BatchNormalization，Dropout等。"
   ]
  },
  {
   "cell_type": "code",
   "execution_count": 21,
   "metadata": {},
   "outputs": [],
   "source": [
    "# 文本分类\n",
    "\n",
    "a = tf.random.uniform(shape=(10, 100, 50), minval=-0.5, maxval=0.5)  # 张量\n",
    "\n",
    "x = tf.keras.layers.LSTM(100)(a)  # LSTM\n",
    "\n",
    "x = tf.keras.layers.Dense(10)(x)  # 全连接层\n",
    "\n",
    "x = tf.nn.softmax(x)  # 激活函数"
   ]
  },
  {
   "cell_type": "markdown",
   "metadata": {},
   "source": [
    "增加层的参数配置"
   ]
  },
  {
   "cell_type": "code",
   "execution_count": 22,
   "metadata": {},
   "outputs": [
    {
     "data": {
      "text/plain": [
       "<tensorflow.python.keras.layers.core.Dense at 0x204d6325b00>"
      ]
     },
     "execution_count": 22,
     "metadata": {},
     "output_type": "execute_result"
    }
   ],
   "source": [
    "# 层中增加激活函数\n",
    "tf.keras.layers.Dense(64, activation='relu')\n",
    "# or\n",
    "tf.keras.layers.Dense(64, activation=tf.nn.relu)\n",
    "\n",
    "\n",
    "# 将L1正则化系数为0.01的线性层应用于内核矩阵\n",
    "tf.keras.layers.Dense(64, kernel_regularizer=tf.keras.regularizers.l1(0.01))\n",
    "\n",
    "# 将L2正则化系数为0.01的线性层应用于偏差向量：\n",
    "tf.keras.layers.Dense(64, bias_regularizer=tf.keras.regularizers.l2(0.01))\n",
    "\n",
    "# 内核初始化为随机正交矩阵的线性层：\n",
    "tf.keras.layers.Dense(64, kernel_initializer='orthogonal')\n",
    "\n",
    "# 偏差向量初始化为2.0的线性层：\n",
    "tf.keras.layers.Dense(64, bias_initializer=tf.keras.initializers.Constant(2.0))"
   ]
  },
  {
   "cell_type": "markdown",
   "metadata": {},
   "source": [
    "`tf.nn`:底层的函数库，其他各种库可以说都是基于这个底层库来进行扩招\n",
    "\n",
    "`tf.keras.layers`:如果说`tf.nn`是轮子，那么`tf.keras.layers`可以说是汽车。`tf.keras.layers`是基于`tf.nn`的高度封装。\n"
   ]
  },
  {
   "cell_type": "markdown",
   "metadata": {},
   "source": [
    "推荐tensorflow的资源:\n",
    "* https://zh.d2l.ai/\n",
    "* https://www.tensorflow.org/api/r2.0\n",
    "* https://tf.wiki/zh_hans/\n",
    "* https://lyhue1991.github.io/eat_tensorflow2_in_30_days/\n"
   ]
  },
  {
   "cell_type": "code",
   "execution_count": null,
   "metadata": {},
   "outputs": [],
   "source": []
  }
 ],
 "metadata": {
  "kernelspec": {
   "display_name": "Python 3",
   "language": "python",
   "name": "python3"
  },
  "language_info": {
   "codemirror_mode": {
    "name": "ipython",
    "version": 3
   },
   "file_extension": ".py",
   "mimetype": "text/x-python",
   "name": "python",
   "nbconvert_exporter": "python",
   "pygments_lexer": "ipython3",
   "version": "3.7.7-final"
  }
 },
 "nbformat": 4,
 "nbformat_minor": 4
}