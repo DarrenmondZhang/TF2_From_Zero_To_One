{
 "cells": [
  {
   "cell_type": "markdown",
   "metadata": {},
   "source": [
    "# 三种建模方式\n",
    "\n",
    "## 一、Sequential model\n",
    "\n",
    "### 第一种Sequential model"
   ]
  },
  {
   "cell_type": "code",
   "execution_count": 1,
   "metadata": {},
   "outputs": [],
   "source": [
    "from tensorflow.keras import layers\n",
    "import tensorflow as tf\n",
    "\n",
    "model = tf.keras.Sequential()\n",
    "model.add(layers.Dense(64, activation='relu'))  # 第一层\n",
    "model.add(layers.Dense(64, activation='relu'))  # 第二层\n",
    "model.add(layers.Dense(10))  # 第三层"
   ]
  },
  {
   "cell_type": "markdown",
   "metadata": {},
   "source": [
    "### 第二种Sequential model"
   ]
  },
  {
   "cell_type": "code",
   "execution_count": 2,
   "metadata": {},
   "outputs": [],
   "source": [
    "model = tf.keras.Sequential([\n",
    "    layers.Dense(64, activation='relu', input_shape=(32,)),  # 第一层\n",
    "    layers.Dense(64, activation='relu'),  # 第二层\n",
    "    layers.Dense(10)  # 第三层\n",
    "])"
   ]
  },
  {
   "cell_type": "code",
   "execution_count": 3,
   "metadata": {},
   "outputs": [],
   "source": [
    "model.compile(optimizer=tf.keras.optimizers.Adam(0.01),\n",
    "              loss=tf.keras.losses.CategoricalCrossentropy(from_logits=True),\n",
    "              metrics=['accuracy'])"
   ]
  },
  {
   "cell_type": "code",
   "execution_count": 4,
   "metadata": {},
   "outputs": [
    {
     "name": "stdout",
     "output_type": "stream",
     "text": [
      "Epoch 1/10\n",
      "32/32 [==============================] - 0s 1ms/step - loss: 44.2523 - accuracy: 0.1060\n",
      "Epoch 2/10\n",
      "32/32 [==============================] - 0s 1ms/step - loss: 186.8199 - accuracy: 0.0930\n",
      "Epoch 3/10\n",
      "32/32 [==============================] - 0s 1ms/step - loss: 1079.1598 - accuracy: 0.0840\n",
      "Epoch 4/10\n",
      "32/32 [==============================] - 0s 1ms/step - loss: 3199.9565 - accuracy: 0.0920\n",
      "Epoch 5/10\n",
      "32/32 [==============================] - 0s 1ms/step - loss: 5311.5405 - accuracy: 0.0940\n",
      "Epoch 6/10\n",
      "32/32 [==============================] - 0s 1ms/step - loss: 8510.5234 - accuracy: 0.0920\n",
      "Epoch 7/10\n",
      "32/32 [==============================] - 0s 1ms/step - loss: 10440.2783 - accuracy: 0.0830\n",
      "Epoch 8/10\n",
      "32/32 [==============================] - 0s 1ms/step - loss: 18815.2812 - accuracy: 0.0910\n",
      "Epoch 9/10\n",
      "32/32 [==============================] - 0s 1ms/step - loss: 18890.6055 - accuracy: 0.0820\n",
      "Epoch 10/10\n",
      "32/32 [==============================] - 0s 1ms/step - loss: 27916.4941 - accuracy: 0.0920\n"
     ]
    },
    {
     "data": {
      "text/plain": [
       "<tensorflow.python.keras.callbacks.History at 0x1901d0c0fd0>"
      ]
     },
     "execution_count": 4,
     "metadata": {},
     "output_type": "execute_result"
    }
   ],
   "source": [
    "import numpy as np\n",
    "\n",
    "data = np.random.random((1000, 32))\n",
    "labels = np.random.random((1000, 10))\n",
    "\n",
    "model.fit(data, labels, epochs=10, batch_size=32)"
   ]
  },
  {
   "cell_type": "markdown",
   "metadata": {},
   "source": [
    "tf.keras.Model.fit (用于模型训练) \n",
    "\n",
    "- epochs：训练分为几个时期。每一个epoch是对整个输入数据的一次迭代（此操作以较小的批次完成）。\n",
    "- batch_size：当传递NumPy数据时，模型将数据切成较小的批次，并在训练期间对这些批次进行迭代。该整数指定每个批次的大小。请注意，如果不能将样本总数除以批次大小，则最后一批可能会更小。\n",
    "- validation_data：在模型训练时，监控在某些验证数据上监视其性能。传递此参数（输入和标签的元组）可以使模型在每个时期结束时以推断模式显示所传递数据的损失和度量。"
   ]
  },
  {
   "cell_type": "markdown",
   "metadata": {},
   "source": [
    "##  二、Functional model\n",
    "\n",
    "复杂模型怎么办？\n",
    "* 多输入模型\n",
    "* 多输出模型\n",
    "* 具有共享图层（同一图层被调用多次）的模型，\n",
    "* 具有非顺序数据流的模型（例如，残余连接）。\n",
    "* 训练模型和tf.keras.Sequential 一样\n",
    "\n",
    "函数式模型是一种创建模型的方法，该模型比tf.keras.Sequential更灵活。函数式模型可以处理具有非线性拓扑的模型，具有共享层的模型以及具有多个输入或输出的模型等等\n",
    "\n",
    "深度学习模型通常是层的有向无环图（DAG）的主要思想。因此，函数式模型是一种构建层图的方法。\n",
    "\n"
   ]
  },
  {
   "cell_type": "raw",
   "metadata": {},
   "source": [
    "举个例子：\n",
    "\n",
    "(input: 32-dimensional vectors) \\\n",
    "       ↧\n",
    "[Dense (64 units, relu activation)] \\\n",
    "       ↧\n",
    "[Dense (64 units, relu activation)] \\\n",
    "       ↧\n",
    "[Dense (10 units, softmax activation)] \\\n",
    "       ↧\n",
    "(output: logits of a probability distribution over 10 classes)"
   ]
  },
  {
   "cell_type": "code",
   "execution_count": 5,
   "metadata": {},
   "outputs": [],
   "source": [
    "inputs = tf.keras.Input(shape=(32,))  \n",
    "# inputs = tf.keras.Input(shape=(32,))  \n",
    "x = layers.Dense(64, activation='relu')(inputs) # 第一层\n",
    "x = layers.Dense(64, activation='relu')(x)  # 第二层\n",
    "predictions = layers.Dense(10)(x)  # 第三层"
   ]
  },
  {
   "cell_type": "code",
   "execution_count": 6,
   "metadata": {},
   "outputs": [
    {
     "name": "stdout",
     "output_type": "stream",
     "text": [
      "Epoch 1/5\n",
      "32/32 [==============================] - 0s 1ms/step - loss: 12.8718 - accuracy: 0.1110\n",
      "Epoch 2/5\n",
      "32/32 [==============================] - 0s 1ms/step - loss: 21.0259 - accuracy: 0.1090\n",
      "Epoch 3/5\n",
      "32/32 [==============================] - 0s 1ms/step - loss: 37.7969 - accuracy: 0.0980\n",
      "Epoch 4/5\n",
      "32/32 [==============================] - 0s 1ms/step - loss: 60.2523 - accuracy: 0.1180\n",
      "Epoch 5/5\n",
      "32/32 [==============================] - 0s 1ms/step - loss: 85.9100 - accuracy: 0.1230\n"
     ]
    },
    {
     "data": {
      "text/plain": [
       "<tensorflow.python.keras.callbacks.History at 0x19023c7db70>"
      ]
     },
     "execution_count": 6,
     "metadata": {},
     "output_type": "execute_result"
    }
   ],
   "source": [
    "model = tf.keras.Model(inputs=inputs, outputs=predictions)\n",
    "\n",
    "\n",
    "model.compile(optimizer=tf.keras.optimizers.RMSprop(0.001),\n",
    "              loss=tf.keras.losses.CategoricalCrossentropy(from_logits=True),\n",
    "              metrics=['accuracy'])\n",
    "\n",
    "import numpy as np\n",
    "data = np.random.random((1000, 32))\n",
    "labels = np.random.random((1000, 10))\n",
    "model.fit(data, labels, batch_size=32, epochs=5)"
   ]
  },
  {
   "cell_type": "code",
   "execution_count": 7,
   "metadata": {},
   "outputs": [],
   "source": [
    "inputs1 = tf.keras.Input(shape=(32,))  # 输入1\n",
    "inputs2 = tf.keras.Input(shape=(32,))  # 输入2\n",
    "x1 = layers.Dense(64, activation='relu')(inputs1)  # 第一层\n",
    "x2 = layers.Dense(64, activation='relu')(inputs2)  # 第一层\n",
    "x = tf.concat([x1,x2], axis=-1)\n",
    "x = layers.Dense(64, activation='relu')(x) #第二层\n",
    "predictions = layers.Dense(10)(x) #第三层"
   ]
  },
  {
   "cell_type": "code",
   "execution_count": 8,
   "metadata": {},
   "outputs": [
    {
     "name": "stdout",
     "output_type": "stream",
     "text": [
      "Epoch 1/5\n",
      "32/32 [==============================] - 0s 2ms/step - loss: 15.2289 - accuracy: 0.0940\n",
      "Epoch 2/5\n",
      "32/32 [==============================] - 0s 1ms/step - loss: 40.7740 - accuracy: 0.1170\n",
      "Epoch 3/5\n",
      "32/32 [==============================] - 0s 1ms/step - loss: 85.2273 - accuracy: 0.1070\n",
      "Epoch 4/5\n",
      "32/32 [==============================] - 0s 1ms/step - loss: 136.7799 - accuracy: 0.1020\n",
      "Epoch 5/5\n",
      "32/32 [==============================] - 0s 1ms/step - loss: 194.8190 - accuracy: 0.1000\n"
     ]
    },
    {
     "data": {
      "text/plain": [
       "<tensorflow.python.keras.callbacks.History at 0x19023dcbba8>"
      ]
     },
     "execution_count": 8,
     "metadata": {},
     "output_type": "execute_result"
    }
   ],
   "source": [
    "model = tf.keras.Model(inputs=[inputs1,inputs2], outputs=predictions)\n",
    "\n",
    "model.compile(optimizer=tf.keras.optimizers.RMSprop(0.001),\n",
    "              loss=tf.keras.losses.CategoricalCrossentropy(from_logits=True),\n",
    "              metrics=['accuracy'])\n",
    "\n",
    "import numpy as np\n",
    "data1 = np.random.random((1000, 32))\n",
    "data2 = np.random.random((1000, 32))\n",
    "labels = np.random.random((1000, 10))\n",
    "model.fit((data1,data2), labels, batch_size=32, epochs=5)"
   ]
  },
  {
   "cell_type": "markdown",
   "metadata": {},
   "source": []
  },
  {
   "cell_type": "markdown",
   "metadata": {},
   "source": [
    "## 模型子类化 (重要！！！)"
   ]
  },
  {
   "cell_type": "markdown",
   "metadata": {},
   "source": [
    "通过子类化 `tf.keras.Model` 和定义自己的前向传播模型来构建完全可定制的模型。\n",
    "\n",
    "和 `eager execution` 模式相辅相成。\n"
   ]
  },
  {
   "cell_type": "code",
   "execution_count": 9,
   "metadata": {},
   "outputs": [],
   "source": [
    "class MyModel(tf.keras.Model):\n",
    "\n",
    "    def __init__(self, num_classes=10):\n",
    "        super(MyModel, self).__init__(name='my_model')\n",
    "        self.num_classes = num_classes\n",
    "        # 定义自己需要的层\n",
    "        self.dense_1 = layers.Dense(32, activation='relu') #\n",
    "        self.dense_2 = layers.Dense(num_classes)\n",
    "\n",
    "    def call(self, inputs):\n",
    "        # 定义前向传播\n",
    "        # 使用在 (in `__init__`)定义的层\n",
    "        x = self.dense_1(inputs)\n",
    "        x = self.dense_2(x)\n",
    "        return x"
   ]
  },
  {
   "cell_type": "code",
   "execution_count": 10,
   "metadata": {},
   "outputs": [
    {
     "name": "stdout",
     "output_type": "stream",
     "text": [
      "Epoch 1/5\n",
      "32/32 [==============================] - 0s 1ms/step - loss: 12.4246 - accuracy: 0.0970\n",
      "Epoch 2/5\n",
      "32/32 [==============================] - 0s 997us/step - loss: 14.2109 - accuracy: 0.1000\n",
      "Epoch 3/5\n",
      "32/32 [==============================] - 0s 1ms/step - loss: 16.3846 - accuracy: 0.1030\n",
      "Epoch 4/5\n",
      "32/32 [==============================] - 0s 1ms/step - loss: 18.1348 - accuracy: 0.1030\n",
      "Epoch 5/5\n",
      "32/32 [==============================] - 0s 1ms/step - loss: 19.8920 - accuracy: 0.1000\n"
     ]
    },
    {
     "data": {
      "text/plain": [
       "<tensorflow.python.keras.callbacks.History at 0x19024ef2080>"
      ]
     },
     "execution_count": 10,
     "metadata": {},
     "output_type": "execute_result"
    }
   ],
   "source": [
    "model = MyModel(num_classes=10)\n",
    "\n",
    "model.compile(optimizer=tf.keras.optimizers.RMSprop(0.001),\n",
    "              loss=tf.keras.losses.CategoricalCrossentropy(from_logits=True),\n",
    "              metrics=['accuracy'])\n",
    "\n",
    "import numpy as np\n",
    "\n",
    "data = np.random.random((1000, 32))\n",
    "labels = np.random.random((1000, 10))\n",
    "# Trains for 5 epochs.\n",
    "model.fit(data, labels, batch_size=32, epochs=5)"
   ]
  },
  {
   "cell_type": "code",
   "execution_count": null,
   "metadata": {},
   "outputs": [],
   "source": []
  },
  {
   "cell_type": "code",
   "execution_count": null,
   "metadata": {},
   "outputs": [],
   "source": []
  }
 ],
 "metadata": {
  "kernelspec": {
   "display_name": "Python 3",
   "language": "python",
   "name": "python3"
  },
  "language_info": {
   "codemirror_mode": {
    "name": "ipython",
    "version": 3
   },
   "file_extension": ".py",
   "mimetype": "text/x-python",
   "name": "python",
   "nbconvert_exporter": "python",
   "pygments_lexer": "ipython3",
   "version": "3.6.5"
  }
 },
 "nbformat": 4,
 "nbformat_minor": 4
}
